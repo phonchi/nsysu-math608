{
 "cells": [
  {
   "cell_type": "code",
   "execution_count": null,
   "metadata": {
    "colab": {
     "base_uri": "https://localhost:8080/"
    },
    "executionInfo": {
     "elapsed": 10902,
     "status": "ok",
     "timestamp": 1730017546214,
     "user": {
      "displayName": "phonchi",
      "userId": "13517391734500420886"
     },
     "user_tz": -480
    },
    "id": "r-uLYGbfEwJD",
    "outputId": "bad2d14a-7972-4ee3-f946-6ff31c3352cb"
   },
   "outputs": [],
   "source": [
    "%pip install -q --upgrade keras-cv"
   ]
  },
  {
   "cell_type": "code",
   "execution_count": null,
   "metadata": {
    "_cell_guid": "b1076dfc-b9ad-4769-8c92-a6c4dae69d19",
    "_uuid": "8f2839f25d086af736a60e9eeb907d3b93b6e0e5",
    "execution": {
     "iopub.execute_input": "2023-04-08T04:21:53.708968Z",
     "iopub.status.busy": "2023-04-08T04:21:53.708638Z",
     "iopub.status.idle": "2023-04-08T04:22:02.410335Z",
     "shell.execute_reply": "2023-04-08T04:22:02.409251Z",
     "shell.execute_reply.started": "2023-04-08T04:21:53.708939Z"
    },
    "executionInfo": {
     "elapsed": 23142,
     "status": "ok",
     "timestamp": 1730017569354,
     "user": {
      "displayName": "phonchi",
      "userId": "13517391734500420886"
     },
     "user_tz": -480
    },
    "id": "30tE3qakLUsp",
    "trusted": true
   },
   "outputs": [],
   "source": [
    "import tensorflow as tf\n",
    "from tensorflow import keras\n",
    "import numpy as np\n",
    "import json\n",
    "import sys\n",
    "import os\n",
    "import keras_cv\n",
    "\n",
    "#os.environ['TF_CPP_MIN_LOG_LEVEL'] = '2'\n",
    "\n",
    "directory = \"/content/\"\n",
    "user_data = directory + \"training_data\"\n",
    "test_data = directory + \"label_book/\" # this can be the label book, or any other test set you create"
   ]
  },
  {
   "cell_type": "code",
   "execution_count": null,
   "metadata": {
    "colab": {
     "base_uri": "https://localhost:8080/"
    },
    "executionInfo": {
     "elapsed": 58071,
     "status": "ok",
     "timestamp": 1730017627423,
     "user": {
      "displayName": "phonchi",
      "userId": "13517391734500420886"
     },
     "user_tz": -480
    },
    "id": "y6A_cVAlLXtR",
    "outputId": "fbe71204-b62c-4210-c8e6-2177338e0993"
   },
   "outputs": [],
   "source": [
    "!gdown --fuzzy https://drive.google.com/file/d/10LEPW3Di4dhqy_NASZ33G0eagi4w3CS4/view?usp=sharing # Replace the link with your file"
   ]
  },
  {
   "cell_type": "code",
   "execution_count": null,
   "metadata": {
    "colab": {
     "base_uri": "https://localhost:8080/"
    },
    "executionInfo": {
     "elapsed": 1149,
     "status": "ok",
     "timestamp": 1730017628569,
     "user": {
      "displayName": "phonchi",
      "userId": "13517391734500420886"
     },
     "user_tz": -480
    },
    "id": "AxDVHXdDLkCx",
    "outputId": "ba338b28-5f33-4c36-ea78-a9d1b3184d12"
   },
   "outputs": [],
   "source": [
    "!unzip Final.zip"
   ]
  },
  {
   "cell_type": "markdown",
   "metadata": {
    "id": "Omwbw2MXLUsr"
   },
   "source": [
    "# Rules\n",
    "\n",
    "- Submission must have less than 12,000 images combined in training and validation\n",
    "\n",
    "**Submissions will be evaluated according to two categories:**\n",
    "1. **Best Performance Overall**\n",
    "2. **Most Innovative**"
   ]
  },
  {
   "cell_type": "markdown",
   "metadata": {
    "id": "SSRiwFuSLUss"
   },
   "source": [
    "# Getting started\n",
    "\n",
    "\n",
    "The dataset contains ~4400 images of handwritten roman numerals 1-10. **Your task is to optimize model performance by improving the dataset and making training and validation splits.**\n",
    "\n",
    "You can try fixing incorrect labels, adding data for side case tuning, apply data augmentation techniques, or use any other method to improve the data. You may also find it helpful to take a look at the training script to get a better sense of the model below (these are held fixed). The script will resize all images to `(32, 32)` and run them through a cut off version of ResNet50."
   ]
  },
  {
   "cell_type": "code",
   "execution_count": null,
   "metadata": {
    "colab": {
     "base_uri": "https://localhost:8080/",
     "height": 1000
    },
    "execution": {
     "iopub.execute_input": "2023-04-08T04:22:02.414993Z",
     "iopub.status.busy": "2023-04-08T04:22:02.413829Z",
     "iopub.status.idle": "2023-04-08T04:31:44.903654Z",
     "shell.execute_reply": "2023-04-08T04:31:44.902607Z",
     "shell.execute_reply.started": "2023-04-08T04:22:02.414948Z"
    },
    "executionInfo": {
     "elapsed": 349026,
     "status": "ok",
     "timestamp": 1730017977594,
     "user": {
      "displayName": "phonchi",
      "userId": "13517391734500420886"
     },
     "user_tz": -480
    },
    "id": "ol5FYx43LUst",
    "outputId": "1a386722-4bb5-44c7-9640-7231e289ef5e",
    "trusted": true
   },
   "outputs": [],
   "source": [
    "### DO NOT MODIFY BELOW THIS LINE, THIS IS THE FIXED MODEL ###\n",
    "tf.keras.backend.clear_session()\n",
    "batch_size = 8\n",
    "tf.random.set_seed(2024)\n",
    "\n",
    "train = tf.keras.preprocessing.image_dataset_from_directory(\n",
    "        user_data + '/train',\n",
    "        labels=\"inferred\",\n",
    "        label_mode=\"categorical\",\n",
    "        class_names=[\"i\", \"ii\", \"iii\", \"iv\", \"v\", \"vi\", \"vii\", \"viii\", \"ix\", \"x\"],\n",
    "        shuffle=True,\n",
    "        seed=123,\n",
    "        batch_size=batch_size,\n",
    "        image_size=(32, 32),\n",
    "    )\n",
    "\n",
    "valid = tf.keras.preprocessing.image_dataset_from_directory(\n",
    "        user_data + '/val',\n",
    "        labels=\"inferred\",\n",
    "        label_mode=\"categorical\",\n",
    "        class_names=[\"i\", \"ii\", \"iii\", \"iv\", \"v\", \"vi\", \"vii\", \"viii\", \"ix\", \"x\"],\n",
    "        shuffle=True,\n",
    "        seed=123,\n",
    "        batch_size=batch_size,\n",
    "        image_size=(32, 32),\n",
    ")\n",
    "\n",
    "total_length = ((train.cardinality() + valid.cardinality()) * batch_size).numpy()\n",
    "\n",
    "if total_length > 12_000:\n",
    "    print(f\"Dataset size larger than 12,000. Got {total_length} examples\")\n",
    "    sys.exit()\n",
    "\n",
    "test = tf.keras.preprocessing.image_dataset_from_directory(\n",
    "        test_data,\n",
    "        labels=\"inferred\",\n",
    "        label_mode=\"categorical\",\n",
    "        class_names=[\"i\", \"ii\", \"iii\", \"iv\", \"v\", \"vi\", \"vii\", \"viii\", \"ix\", \"x\"],\n",
    "        shuffle=False,\n",
    "        seed=123,\n",
    "        batch_size=batch_size,\n",
    "        image_size=(32, 32),\n",
    ")\n",
    "\n",
    "# Initialize the base model using KerasCV's ResNet50\n",
    "backbone = keras_cv.models.ResNet50Backbone.from_preset(\n",
    "    input_shape=(32, 32, 3),\n",
    "    preset = \"resnet50_imagenet\",\n",
    "    load_weights=False,\n",
    ")\n",
    "\n",
    "# Create a new model that outputs the desired intermediate layer\n",
    "base_model = tf.keras.Model(\n",
    "    inputs=backbone.inputs,\n",
    "    outputs=backbone.get_layer(\"v2_stack_0_block3_out\").output\n",
    ")\n",
    "\n",
    "# Define the input tensor\n",
    "inputs = tf.keras.Input(shape=(32, 32, 3))\n",
    "\n",
    "# Pass the preprocessed input through the base model\n",
    "x = base_model(inputs)\n",
    "\n",
    "# Add global average pooling\n",
    "x = tf.keras.layers.GlobalAveragePooling2D()(x)\n",
    "\n",
    "# Add a dense layer for classification (assuming 10 classes)\n",
    "x = tf.keras.layers.Dense(10)(x)\n",
    "\n",
    "# Define the final model\n",
    "model = tf.keras.Model(inputs, x)\n",
    "\n",
    "# Compile the model with appropriate optimizer, loss, and metrics\n",
    "model.compile(\n",
    "    optimizer=tf.keras.optimizers.Adam(learning_rate=0.0001),\n",
    "    loss=tf.keras.losses.CategoricalCrossentropy(from_logits=True),\n",
    "    metrics=[\"accuracy\"],\n",
    ")\n",
    "\n",
    "# Display the model's architecture\n",
    "model.summary()\n",
    "\n",
    "loss_0, acc_0 = model.evaluate(valid)\n",
    "print(f\"loss {loss_0}, acc {acc_0}\")\n",
    "\n",
    "checkpoint = tf.keras.callbacks.ModelCheckpoint(\n",
    "        \"best_model.weights.h5\",\n",
    "        monitor=\"val_accuracy\",\n",
    "        mode=\"max\",\n",
    "        save_best_only=True,\n",
    "        save_weights_only=True,\n",
    ")\n",
    "lr_scheduler = tf.keras.callbacks.ReduceLROnPlateau(factor=0.1, patience=10, verbose=1, min_lr=1e-7)\n",
    "\n",
    "history = model.fit(\n",
    "        train,\n",
    "        validation_data=valid,\n",
    "        epochs=75,\n",
    "        callbacks=[checkpoint, lr_scheduler],\n",
    ")\n",
    "\n",
    "model.load_weights(\"best_model.weights.h5\")\n",
    "\n",
    "loss, acc = model.evaluate(valid)\n",
    "print(f\"final loss {loss}, final acc {acc}\")\n",
    "\n",
    "test_loss, test_acc = model.evaluate(test)\n",
    "print(f\"test loss {test_loss}, test acc {test_acc}\")\n",
    "\n",
    "### DO NOT MODIFY ABOVE THIS LINE, THIS IS THE FIXED MODEL ###"
   ]
  },
  {
   "cell_type": "markdown",
   "metadata": {
    "id": "MakJWLXHLUsu"
   },
   "source": [
    "## Make your submission"
   ]
  },
  {
   "cell_type": "markdown",
   "metadata": {
    "id": "X9kYrrD4LUsu"
   },
   "source": [
    "Remember that the evaluation metric is Macro F1 score, you may want to also evaluate the above results using the Macro F1 score before submission."
   ]
  },
  {
   "cell_type": "code",
   "execution_count": null,
   "metadata": {
    "colab": {
     "base_uri": "https://localhost:8080/"
    },
    "execution": {
     "iopub.execute_input": "2023-04-08T04:32:28.734394Z",
     "iopub.status.busy": "2023-04-08T04:32:28.734019Z",
     "iopub.status.idle": "2023-04-08T04:32:30.496472Z",
     "shell.execute_reply": "2023-04-08T04:32:30.495412Z",
     "shell.execute_reply.started": "2023-04-08T04:32:28.734361Z"
    },
    "executionInfo": {
     "elapsed": 2958,
     "status": "ok",
     "timestamp": 1730018145432,
     "user": {
      "displayName": "phonchi",
      "userId": "13517391734500420886"
     },
     "user_tz": -480
    },
    "id": "CF6kwgHRLUsv",
    "outputId": "0c766866-47aa-4b01-96dd-b9c678e4fac3",
    "trusted": true
   },
   "outputs": [],
   "source": [
    "test_dataset = tf.keras.preprocessing.image_dataset_from_directory(\n",
    "    directory+\"testing_data\",\n",
    "    shuffle = False,\n",
    "    image_size=(32, 32),\n",
    "    batch_size=1)\n",
    "\n",
    "prob = model.predict(test_dataset)\n",
    "predictions = []\n",
    "for i in range(0, prob.shape[0]):\n",
    "    predictions.append(np.argmax(prob[i,:])+1)"
   ]
  },
  {
   "cell_type": "code",
   "execution_count": null,
   "metadata": {
    "executionInfo": {
     "elapsed": 338,
     "status": "ok",
     "timestamp": 1730018148256,
     "user": {
      "displayName": "phonchi",
      "userId": "13517391734500420886"
     },
     "user_tz": -480
    },
    "id": "gHXxkWHwg_g8"
   },
   "outputs": [],
   "source": [
    "import pandas as pd\n",
    "\n",
    "paths = test_dataset.file_paths\n",
    "\n",
    "Ids = []\n",
    "for x in paths:\n",
    "    Ids.append(x.split(\"/\")[-1])\n",
    "\n",
    "df = pd.DataFrame()\n",
    "df[\"Id\"] = Ids\n",
    "df[\"Predicted\"] = predictions\n",
    "df.to_csv(\"submission.csv\", index=False)"
   ]
  }
 ],
 "metadata": {
  "accelerator": "GPU",
  "colab": {
   "gpuType": "T4",
   "provenance": []
  },
  "kernelspec": {
   "display_name": "Python 3",
   "name": "python3"
  },
  "language_info": {
   "codemirror_mode": {
    "name": "ipython",
    "version": 3
   },
   "file_extension": ".py",
   "mimetype": "text/x-python",
   "name": "python",
   "nbconvert_exporter": "python",
   "pygments_lexer": "ipython3",
   "version": "3.7.12"
  }
 },
 "nbformat": 4,
 "nbformat_minor": 0
}
