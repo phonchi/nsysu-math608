{
 "cells": [
  {
   "cell_type": "code",
   "execution_count": null,
   "metadata": {
    "execution": {
     "iopub.execute_input": "2024-10-27T08:50:10.264609Z",
     "iopub.status.busy": "2024-10-27T08:50:10.264253Z",
     "iopub.status.idle": "2024-10-27T08:50:23.620224Z",
     "shell.execute_reply": "2024-10-27T08:50:23.619065Z",
     "shell.execute_reply.started": "2024-10-27T08:50:10.264570Z"
    },
    "trusted": true
   },
   "outputs": [],
   "source": [
    "%pip install -q --upgrade keras-cv"
   ]
  },
  {
   "cell_type": "code",
   "execution_count": null,
   "metadata": {
    "_cell_guid": "b1076dfc-b9ad-4769-8c92-a6c4dae69d19",
    "_uuid": "8f2839f25d086af736a60e9eeb907d3b93b6e0e5",
    "execution": {
     "iopub.execute_input": "2024-10-27T08:56:54.913693Z",
     "iopub.status.busy": "2024-10-27T08:56:54.912985Z",
     "iopub.status.idle": "2024-10-27T08:56:54.918717Z",
     "shell.execute_reply": "2024-10-27T08:56:54.917804Z",
     "shell.execute_reply.started": "2024-10-27T08:56:54.913650Z"
    },
    "trusted": true
   },
   "outputs": [],
   "source": [
    "import tensorflow as tf\n",
    "from tensorflow import keras\n",
    "import numpy as np\n",
    "import json\n",
    "import sys\n",
    "import os\n",
    "import keras_cv\n",
    "\n",
    "directory = \"/kaggle/input/practical-innovative-analytics-data-science-2024/\"\n",
    "user_data = directory + \"training_data\"\n",
    "test_data = directory + \"label_book/\" # this can be the label book, or any other test set you create"
   ]
  },
  {
   "cell_type": "markdown",
   "metadata": {},
   "source": [
    "# Rules\n",
    "\n",
    "- Submission must have less than 10,000 images combined in training and validation\n",
    "\n",
    "**Submissions will be evaluated according to two categories:**\n",
    "1. **Best Performance Overall**\n",
    "2. **Most Innovative**"
   ]
  },
  {
   "cell_type": "markdown",
   "metadata": {},
   "source": [
    "# Getting started\n",
    "\n",
    "\n",
    "The dataset contains ~4400 images of handwritten roman numerals 1-10. **Your task is to optimize model performance by improving the dataset and making training and validation splits.**\n",
    "\n",
    "You can try fixing incorrect labels, adding data for side case tuning, apply data augmentation techniques, or use any other method to improve the data. You may also find it helpful to take a look at the training script to get a better sense of the model below (these are held fixed). The script will resize all images to `(32, 32)` and run them through a cut off version of ResNet50. "
   ]
  },
  {
   "cell_type": "code",
   "execution_count": null,
   "metadata": {
    "execution": {
     "iopub.execute_input": "2024-10-27T08:56:56.988861Z",
     "iopub.status.busy": "2024-10-27T08:56:56.988479Z",
     "iopub.status.idle": "2024-10-27T09:00:09.044559Z",
     "shell.execute_reply": "2024-10-27T09:00:09.043583Z",
     "shell.execute_reply.started": "2024-10-27T08:56:56.988822Z"
    },
    "trusted": true
   },
   "outputs": [],
   "source": [
    "### DO NOT MODIFY BELOW THIS LINE, THIS IS THE FIXED MODEL ###\n",
    "tf.keras.backend.clear_session()\n",
    "batch_size = 8\n",
    "tf.random.set_seed(2024)\n",
    "\n",
    "train = tf.keras.preprocessing.image_dataset_from_directory(\n",
    "        user_data + '/train',\n",
    "        labels=\"inferred\",\n",
    "        label_mode=\"categorical\",\n",
    "        class_names=[\"i\", \"ii\", \"iii\", \"iv\", \"v\", \"vi\", \"vii\", \"viii\", \"ix\", \"x\"],\n",
    "        shuffle=True,\n",
    "        seed=123,\n",
    "        batch_size=batch_size,\n",
    "        image_size=(32, 32),\n",
    "    )\n",
    "\n",
    "valid = tf.keras.preprocessing.image_dataset_from_directory(\n",
    "        user_data + '/val',\n",
    "        labels=\"inferred\",\n",
    "        label_mode=\"categorical\",\n",
    "        class_names=[\"i\", \"ii\", \"iii\", \"iv\", \"v\", \"vi\", \"vii\", \"viii\", \"ix\", \"x\"],\n",
    "        shuffle=True,\n",
    "        seed=123,\n",
    "        batch_size=batch_size,\n",
    "        image_size=(32, 32),\n",
    ")\n",
    "\n",
    "total_length = ((train.cardinality() + valid.cardinality()) * batch_size).numpy()\n",
    "\n",
    "if total_length > 12_000:\n",
    "    print(f\"Dataset size larger than 12,000. Got {total_length} examples\")\n",
    "    sys.exit()\n",
    "\n",
    "test = tf.keras.preprocessing.image_dataset_from_directory(\n",
    "        test_data,\n",
    "        labels=\"inferred\",\n",
    "        label_mode=\"categorical\",\n",
    "        class_names=[\"i\", \"ii\", \"iii\", \"iv\", \"v\", \"vi\", \"vii\", \"viii\", \"ix\", \"x\"],\n",
    "        shuffle=False,\n",
    "        seed=123,\n",
    "        batch_size=batch_size,\n",
    "        image_size=(32, 32),\n",
    ")\n",
    "\n",
    "# Initialize the base model using KerasCV's ResNet50\n",
    "backbone = keras_cv.models.ResNet50Backbone.from_preset(\n",
    "    input_shape=(32, 32, 3),\n",
    "    preset = \"resnet50_imagenet\",\n",
    "    load_weights=False,\n",
    ")\n",
    "\n",
    "# Create a new model that outputs the desired intermediate layer\n",
    "base_model = tf.keras.Model(\n",
    "    inputs=backbone.inputs,\n",
    "    outputs=backbone.get_layer(\"v2_stack_0_block3_out\").output\n",
    ")\n",
    "\n",
    "# Define the input tensor\n",
    "inputs = tf.keras.Input(shape=(32, 32, 3))\n",
    "\n",
    "# Pass the preprocessed input through the base model\n",
    "x = base_model(inputs)\n",
    "\n",
    "# Add global average pooling\n",
    "x = tf.keras.layers.GlobalAveragePooling2D()(x)\n",
    "\n",
    "# Add a dense layer for classification (assuming 10 classes)\n",
    "x = tf.keras.layers.Dense(10)(x)\n",
    "\n",
    "# Define the final model\n",
    "model = tf.keras.Model(inputs, x)\n",
    "\n",
    "# Compile the model with appropriate optimizer, loss, and metrics\n",
    "model.compile(\n",
    "    optimizer=tf.keras.optimizers.Adam(learning_rate=0.0001),\n",
    "    loss=tf.keras.losses.CategoricalCrossentropy(from_logits=True),\n",
    "    metrics=[\"accuracy\"],\n",
    ")\n",
    "\n",
    "# Display the model's architecture\n",
    "model.summary()\n",
    "    \n",
    "loss_0, acc_0 = model.evaluate(valid)\n",
    "print(f\"loss {loss_0}, acc {acc_0}\")\n",
    "\n",
    "checkpoint = tf.keras.callbacks.ModelCheckpoint(\n",
    "        \"best_model.weights.h5\",\n",
    "        monitor=\"val_accuracy\",\n",
    "        mode=\"max\",\n",
    "        save_best_only=True,\n",
    "        save_weights_only=True,\n",
    ")\n",
    "lr_scheduler = tf.keras.callbacks.ReduceLROnPlateau(factor=0.1, patience=10, verbose=1, min_lr=1e-7)\n",
    "\n",
    "history = model.fit(\n",
    "        train,\n",
    "        validation_data=valid,\n",
    "        epochs=75,\n",
    "        callbacks=[checkpoint, lr_scheduler],\n",
    ")\n",
    "\n",
    "model.load_weights(\"best_model.weights.h5\")\n",
    "\n",
    "loss, acc = model.evaluate(valid)\n",
    "print(f\"final loss {loss}, final acc {acc}\")\n",
    "\n",
    "test_loss, test_acc = model.evaluate(test)\n",
    "print(f\"test loss {test_loss}, test acc {test_acc}\")\n",
    "\n",
    "### DO NOT MODIFY ABOVE THIS LINE, THIS IS THE FIXED MODEL ###"
   ]
  },
  {
   "cell_type": "markdown",
   "metadata": {},
   "source": [
    "## Make your submission"
   ]
  },
  {
   "cell_type": "markdown",
   "metadata": {},
   "source": [
    "Remember that the evaluation metric is Macro F1 score, you may want to also evaluate the above results using the Macro F1 score before submission."
   ]
  },
  {
   "cell_type": "code",
   "execution_count": null,
   "metadata": {
    "execution": {
     "iopub.execute_input": "2024-10-27T09:05:05.362470Z",
     "iopub.status.busy": "2024-10-27T09:05:05.361685Z",
     "iopub.status.idle": "2024-10-27T09:05:07.790488Z",
     "shell.execute_reply": "2024-10-27T09:05:07.789427Z",
     "shell.execute_reply.started": "2024-10-27T09:05:05.362428Z"
    },
    "trusted": true
   },
   "outputs": [],
   "source": [
    "test_dataset = tf.keras.preprocessing.image_dataset_from_directory(\n",
    "    directory+\"testing_data\",\n",
    "    shuffle = False,\n",
    "    image_size=(32, 32),\n",
    "    batch_size=1)\n",
    "\n",
    "prob = model.predict(test_dataset)\n",
    "predictions = []\n",
    "for i in range(0, prob.shape[0]):\n",
    "    predictions.append(np.argmax(prob[i,:])+1)"
   ]
  },
  {
   "cell_type": "code",
   "execution_count": 18,
   "metadata": {
    "execution": {
     "iopub.execute_input": "2024-10-27T09:05:09.329084Z",
     "iopub.status.busy": "2024-10-27T09:05:09.328423Z",
     "iopub.status.idle": "2024-10-27T09:05:09.361548Z",
     "shell.execute_reply": "2024-10-27T09:05:09.360631Z",
     "shell.execute_reply.started": "2024-10-27T09:05:09.329039Z"
    },
    "trusted": true
   },
   "outputs": [],
   "source": [
    "import pandas as pd\n",
    "\n",
    "paths = test_dataset.file_paths\n",
    "\n",
    "Ids = []\n",
    "for x in paths:\n",
    "    Ids.append(x.split(\"/\")[-1])\n",
    "    \n",
    "df = pd.DataFrame()\n",
    "df[\"Id\"] = Ids\n",
    "df[\"Predicted\"] = predictions\n",
    "df.to_csv(\"submission.csv\", index=False)"
   ]
  }
 ],
 "metadata": {
  "kaggle": {
   "accelerator": "nvidiaTeslaT4",
   "dataSources": [
    {
     "databundleVersionId": 9970416,
     "sourceId": 87502,
     "sourceType": "competition"
    },
    {
     "databundleVersionId": 7429345,
     "modelInstanceId": 4623,
     "sourceId": 6091,
     "sourceType": "modelInstanceVersion"
    }
   ],
   "dockerImageVersionId": 30787,
   "isGpuEnabled": true,
   "isInternetEnabled": true,
   "language": "python",
   "sourceType": "notebook"
  },
  "kernelspec": {
   "display_name": "Python 3",
   "language": "python",
   "name": "python3"
  },
  "language_info": {
   "codemirror_mode": {
    "name": "ipython",
    "version": 3
   },
   "file_extension": ".py",
   "mimetype": "text/x-python",
   "name": "python",
   "nbconvert_exporter": "python",
   "pygments_lexer": "ipython3",
   "version": "3.10.14"
  }
 },
 "nbformat": 4,
 "nbformat_minor": 4
}
